{
  "nbformat": 4,
  "nbformat_minor": 0,
  "metadata": {
    "colab": {
      "provenance": [],
      "authorship_tag": "ABX9TyMIh3bpVgrwwf0Nrgb+TwFc",
      "include_colab_link": true
    },
    "kernelspec": {
      "name": "python3",
      "display_name": "Python 3"
    },
    "language_info": {
      "name": "python"
    },
    "accelerator": "GPU",
    "gpuClass": "standard"
  },
  "cells": [
    {
      "cell_type": "markdown",
      "metadata": {
        "id": "view-in-github",
        "colab_type": "text"
      },
      "source": [
        "<a href=\"https://colab.research.google.com/github/Ha-eunYu/pix2pix/blob/main/pix2pix_230209.ipynb\" target=\"_parent\"><img src=\"https://colab.research.google.com/assets/colab-badge.svg\" alt=\"Open In Colab\"/></a>"
      ]
    },
    {
      "cell_type": "code",
      "execution_count": 1,
      "metadata": {
        "id": "zj93Gwu_4fIy",
        "outputId": "df3ee8b9-b4ec-49ac-e07e-8605def564dc",
        "colab": {
          "base_uri": "https://localhost:8080/"
        }
      },
      "outputs": [
        {
          "output_type": "stream",
          "name": "stdout",
          "text": [
            "Sun Feb 12 16:54:29 2023       \n",
            "+-----------------------------------------------------------------------------+\n",
            "| NVIDIA-SMI 510.47.03    Driver Version: 510.47.03    CUDA Version: 11.6     |\n",
            "|-------------------------------+----------------------+----------------------+\n",
            "| GPU  Name        Persistence-M| Bus-Id        Disp.A | Volatile Uncorr. ECC |\n",
            "| Fan  Temp  Perf  Pwr:Usage/Cap|         Memory-Usage | GPU-Util  Compute M. |\n",
            "|                               |                      |               MIG M. |\n",
            "|===============================+======================+======================|\n",
            "|   0  Tesla T4            Off  | 00000000:00:04.0 Off |                    0 |\n",
            "| N/A   70C    P0    30W /  70W |      0MiB / 15360MiB |      0%      Default |\n",
            "|                               |                      |                  N/A |\n",
            "+-------------------------------+----------------------+----------------------+\n",
            "                                                                               \n",
            "+-----------------------------------------------------------------------------+\n",
            "| Processes:                                                                  |\n",
            "|  GPU   GI   CI        PID   Type   Process name                  GPU Memory |\n",
            "|        ID   ID                                                   Usage      |\n",
            "|=============================================================================|\n",
            "|  No running processes found                                                 |\n",
            "+-----------------------------------------------------------------------------+\n",
            "13.6 gigabytes of available RAM\n",
            "\n",
            "학습을 진행하는 기기: cuda\n"
          ]
        }
      ],
      "source": [
        "from psutil import virtual_memory\n",
        "import torch\n",
        "\n",
        "# colab-GPU 사용 확인\n",
        "gpu_info = !nvidia-smi\n",
        "gpu_info = '\\n'.join(gpu_info)\n",
        "if gpu_info.find('failed') >= 0:\n",
        "  print('GPU 연결 실패!')\n",
        "else:\n",
        "  print(gpu_info)\n",
        "\n",
        "# RAM 사용량 체크\n",
        "ram_gb = virtual_memory().total / 1e9\n",
        "print('{:.1f} gigabytes of available RAM\\n'.format(ram_gb))\n",
        "\n",
        "# pytorch-GPU 연결 확인\n",
        "device = torch.device(\"cuda\" if torch.cuda.is_available() else \"cpu\")\n",
        "print('학습을 진행하는 기기:',device)\n",
        "\n",
        "# 구글 드라이브 연결. 만약 직접 데이터셋을 사용한다면 주석 해제.\n",
        "# from google.colab import drive\n",
        "# drive.mount('/content/drive')"
      ]
    },
    {
      "cell_type": "code",
      "source": [
        "#  동적 코드 다운\n",
        "!pip install fastai==2.4"
      ],
      "metadata": {
        "id": "BZdCevf74tRh",
        "outputId": "267a8929-7643-4625-9c1a-a7fb0f1cd6a4",
        "colab": {
          "base_uri": "https://localhost:8080/"
        }
      },
      "execution_count": 2,
      "outputs": [
        {
          "output_type": "stream",
          "name": "stdout",
          "text": [
            "Looking in indexes: https://pypi.org/simple, https://us-python.pkg.dev/colab-wheels/public/simple/\n",
            "Collecting fastai==2.4\n",
            "  Downloading fastai-2.4-py3-none-any.whl (187 kB)\n",
            "\u001b[2K     \u001b[90m━━━━━━━━━━━━━━━━━━━━━━━━━━━━━━━━━━━━━━━\u001b[0m \u001b[32m187.9/187.9 KB\u001b[0m \u001b[31m7.0 MB/s\u001b[0m eta \u001b[36m0:00:00\u001b[0m\n",
            "\u001b[?25hRequirement already satisfied: scikit-learn in /usr/local/lib/python3.8/dist-packages (from fastai==2.4) (1.0.2)\n",
            "Requirement already satisfied: requests in /usr/local/lib/python3.8/dist-packages (from fastai==2.4) (2.25.1)\n",
            "Requirement already satisfied: matplotlib in /usr/local/lib/python3.8/dist-packages (from fastai==2.4) (3.2.2)\n",
            "Requirement already satisfied: pyyaml in /usr/local/lib/python3.8/dist-packages (from fastai==2.4) (6.0)\n",
            "Requirement already satisfied: pillow>6.0.0 in /usr/local/lib/python3.8/dist-packages (from fastai==2.4) (7.1.2)\n",
            "Requirement already satisfied: scipy in /usr/local/lib/python3.8/dist-packages (from fastai==2.4) (1.7.3)\n",
            "Collecting fastcore<1.4,>=1.3.8\n",
            "  Downloading fastcore-1.3.29-py3-none-any.whl (55 kB)\n",
            "\u001b[2K     \u001b[90m━━━━━━━━━━━━━━━━━━━━━━━━━━━━━━━━━━━━━━━━\u001b[0m \u001b[32m56.0/56.0 KB\u001b[0m \u001b[31m1.9 MB/s\u001b[0m eta \u001b[36m0:00:00\u001b[0m\n",
            "\u001b[?25hRequirement already satisfied: pandas in /usr/local/lib/python3.8/dist-packages (from fastai==2.4) (1.3.5)\n",
            "Requirement already satisfied: packaging in /usr/local/lib/python3.8/dist-packages (from fastai==2.4) (23.0)\n",
            "Requirement already satisfied: spacy<4 in /usr/local/lib/python3.8/dist-packages (from fastai==2.4) (3.4.4)\n",
            "Requirement already satisfied: fastprogress>=0.2.4 in /usr/local/lib/python3.8/dist-packages (from fastai==2.4) (1.0.3)\n",
            "Collecting torch<1.10,>=1.7.0\n",
            "  Downloading torch-1.9.1-cp38-cp38-manylinux1_x86_64.whl (831.4 MB)\n",
            "\u001b[2K     \u001b[90m━━━━━━━━━━━━━━━━━━━━━━━━━━━━━━━━━━━━━━━\u001b[0m \u001b[32m831.4/831.4 MB\u001b[0m \u001b[31m1.8 MB/s\u001b[0m eta \u001b[36m0:00:00\u001b[0m\n",
            "\u001b[?25hRequirement already satisfied: torchvision>=0.8.2 in /usr/local/lib/python3.8/dist-packages (from fastai==2.4) (0.14.1+cu116)\n",
            "Requirement already satisfied: pip in /usr/local/lib/python3.8/dist-packages (from fastai==2.4) (22.0.4)\n",
            "Requirement already satisfied: pathy>=0.3.5 in /usr/local/lib/python3.8/dist-packages (from spacy<4->fastai==2.4) (0.10.1)\n",
            "Requirement already satisfied: thinc<8.2.0,>=8.1.0 in /usr/local/lib/python3.8/dist-packages (from spacy<4->fastai==2.4) (8.1.7)\n",
            "Requirement already satisfied: smart-open<7.0.0,>=5.2.1 in /usr/local/lib/python3.8/dist-packages (from spacy<4->fastai==2.4) (6.3.0)\n",
            "Requirement already satisfied: srsly<3.0.0,>=2.4.3 in /usr/local/lib/python3.8/dist-packages (from spacy<4->fastai==2.4) (2.4.5)\n",
            "Requirement already satisfied: jinja2 in /usr/local/lib/python3.8/dist-packages (from spacy<4->fastai==2.4) (2.11.3)\n",
            "Requirement already satisfied: preshed<3.1.0,>=3.0.2 in /usr/local/lib/python3.8/dist-packages (from spacy<4->fastai==2.4) (3.0.8)\n",
            "Requirement already satisfied: setuptools in /usr/local/lib/python3.8/dist-packages (from spacy<4->fastai==2.4) (57.4.0)\n",
            "Requirement already satisfied: spacy-loggers<2.0.0,>=1.0.0 in /usr/local/lib/python3.8/dist-packages (from spacy<4->fastai==2.4) (1.0.4)\n",
            "Requirement already satisfied: catalogue<2.1.0,>=2.0.6 in /usr/local/lib/python3.8/dist-packages (from spacy<4->fastai==2.4) (2.0.8)\n",
            "Requirement already satisfied: pydantic!=1.8,!=1.8.1,<1.11.0,>=1.7.4 in /usr/local/lib/python3.8/dist-packages (from spacy<4->fastai==2.4) (1.10.4)\n",
            "Requirement already satisfied: spacy-legacy<3.1.0,>=3.0.10 in /usr/local/lib/python3.8/dist-packages (from spacy<4->fastai==2.4) (3.0.12)\n",
            "Requirement already satisfied: tqdm<5.0.0,>=4.38.0 in /usr/local/lib/python3.8/dist-packages (from spacy<4->fastai==2.4) (4.64.1)\n",
            "Requirement already satisfied: murmurhash<1.1.0,>=0.28.0 in /usr/local/lib/python3.8/dist-packages (from spacy<4->fastai==2.4) (1.0.9)\n",
            "Requirement already satisfied: wasabi<1.1.0,>=0.9.1 in /usr/local/lib/python3.8/dist-packages (from spacy<4->fastai==2.4) (0.10.1)\n",
            "Requirement already satisfied: langcodes<4.0.0,>=3.2.0 in /usr/local/lib/python3.8/dist-packages (from spacy<4->fastai==2.4) (3.3.0)\n",
            "Requirement already satisfied: cymem<2.1.0,>=2.0.2 in /usr/local/lib/python3.8/dist-packages (from spacy<4->fastai==2.4) (2.0.7)\n",
            "Requirement already satisfied: typer<0.8.0,>=0.3.0 in /usr/local/lib/python3.8/dist-packages (from spacy<4->fastai==2.4) (0.7.0)\n",
            "Requirement already satisfied: numpy>=1.15.0 in /usr/local/lib/python3.8/dist-packages (from spacy<4->fastai==2.4) (1.21.6)\n",
            "Requirement already satisfied: certifi>=2017.4.17 in /usr/local/lib/python3.8/dist-packages (from requests->fastai==2.4) (2022.12.7)\n",
            "Requirement already satisfied: chardet<5,>=3.0.2 in /usr/local/lib/python3.8/dist-packages (from requests->fastai==2.4) (4.0.0)\n",
            "Requirement already satisfied: idna<3,>=2.5 in /usr/local/lib/python3.8/dist-packages (from requests->fastai==2.4) (2.10)\n",
            "Requirement already satisfied: urllib3<1.27,>=1.21.1 in /usr/local/lib/python3.8/dist-packages (from requests->fastai==2.4) (1.24.3)\n",
            "Requirement already satisfied: typing-extensions in /usr/local/lib/python3.8/dist-packages (from torch<1.10,>=1.7.0->fastai==2.4) (4.4.0)\n",
            "Collecting torchvision>=0.8.2\n",
            "  Downloading torchvision-0.14.1-cp38-cp38-manylinux1_x86_64.whl (24.2 MB)\n",
            "\u001b[2K     \u001b[90m━━━━━━━━━━━━━━━━━━━━━━━━━━━━━━━━━━━━━━━━\u001b[0m \u001b[32m24.2/24.2 MB\u001b[0m \u001b[31m62.7 MB/s\u001b[0m eta \u001b[36m0:00:00\u001b[0m\n",
            "\u001b[?25h  Downloading torchvision-0.14.0-cp38-cp38-manylinux1_x86_64.whl (24.3 MB)\n",
            "\u001b[2K     \u001b[90m━━━━━━━━━━━━━━━━━━━━━━━━━━━━━━━━━━━━━━━━\u001b[0m \u001b[32m24.3/24.3 MB\u001b[0m \u001b[31m68.9 MB/s\u001b[0m eta \u001b[36m0:00:00\u001b[0m\n",
            "\u001b[?25h  Downloading torchvision-0.13.1-cp38-cp38-manylinux1_x86_64.whl (19.1 MB)\n",
            "\u001b[2K     \u001b[90m━━━━━━━━━━━━━━━━━━━━━━━━━━━━━━━━━━━━━━━━\u001b[0m \u001b[32m19.1/19.1 MB\u001b[0m \u001b[31m64.5 MB/s\u001b[0m eta \u001b[36m0:00:00\u001b[0m\n",
            "\u001b[?25h  Downloading torchvision-0.13.0-cp38-cp38-manylinux1_x86_64.whl (19.1 MB)\n",
            "\u001b[2K     \u001b[90m━━━━━━━━━━━━━━━━━━━━━━━━━━━━━━━━━━━━━━━━\u001b[0m \u001b[32m19.1/19.1 MB\u001b[0m \u001b[31m18.3 MB/s\u001b[0m eta \u001b[36m0:00:00\u001b[0m\n",
            "\u001b[?25h  Downloading torchvision-0.12.0-cp38-cp38-manylinux1_x86_64.whl (21.0 MB)\n",
            "\u001b[2K     \u001b[90m━━━━━━━━━━━━━━━━━━━━━━━━━━━━━━━━━━━━━━━━\u001b[0m \u001b[32m21.0/21.0 MB\u001b[0m \u001b[31m88.7 MB/s\u001b[0m eta \u001b[36m0:00:00\u001b[0m\n",
            "\u001b[?25h  Downloading torchvision-0.11.3-cp38-cp38-manylinux1_x86_64.whl (23.2 MB)\n",
            "\u001b[2K     \u001b[90m━━━━━━━━━━━━━━━━━━━━━━━━━━━━━━━━━━━━━━━━\u001b[0m \u001b[32m23.2/23.2 MB\u001b[0m \u001b[31m77.8 MB/s\u001b[0m eta \u001b[36m0:00:00\u001b[0m\n",
            "\u001b[?25h  Downloading torchvision-0.11.2-cp38-cp38-manylinux1_x86_64.whl (23.3 MB)\n",
            "\u001b[2K     \u001b[90m━━━━━━━━━━━━━━━━━━━━━━━━━━━━━━━━━━━━━━━━\u001b[0m \u001b[32m23.3/23.3 MB\u001b[0m \u001b[31m58.6 MB/s\u001b[0m eta \u001b[36m0:00:00\u001b[0m\n",
            "\u001b[?25h  Downloading torchvision-0.11.1-cp38-cp38-manylinux1_x86_64.whl (23.3 MB)\n",
            "\u001b[2K     \u001b[90m━━━━━━━━━━━━━━━━━━━━━━━━━━━━━━━━━━━━━━━━\u001b[0m \u001b[32m23.3/23.3 MB\u001b[0m \u001b[31m17.7 MB/s\u001b[0m eta \u001b[36m0:00:00\u001b[0m\n",
            "\u001b[?25h  Downloading torchvision-0.10.1-cp38-cp38-manylinux1_x86_64.whl (22.1 MB)\n",
            "\u001b[2K     \u001b[90m━━━━━━━━━━━━━━━━━━━━━━━━━━━━━━━━━━━━━━━━\u001b[0m \u001b[32m22.1/22.1 MB\u001b[0m \u001b[31m38.3 MB/s\u001b[0m eta \u001b[36m0:00:00\u001b[0m\n",
            "\u001b[?25hRequirement already satisfied: cycler>=0.10 in /usr/local/lib/python3.8/dist-packages (from matplotlib->fastai==2.4) (0.11.0)\n",
            "Requirement already satisfied: pyparsing!=2.0.4,!=2.1.2,!=2.1.6,>=2.0.1 in /usr/local/lib/python3.8/dist-packages (from matplotlib->fastai==2.4) (3.0.9)\n",
            "Requirement already satisfied: kiwisolver>=1.0.1 in /usr/local/lib/python3.8/dist-packages (from matplotlib->fastai==2.4) (1.4.4)\n",
            "Requirement already satisfied: python-dateutil>=2.1 in /usr/local/lib/python3.8/dist-packages (from matplotlib->fastai==2.4) (2.8.2)\n",
            "Requirement already satisfied: pytz>=2017.3 in /usr/local/lib/python3.8/dist-packages (from pandas->fastai==2.4) (2022.7.1)\n",
            "Requirement already satisfied: threadpoolctl>=2.0.0 in /usr/local/lib/python3.8/dist-packages (from scikit-learn->fastai==2.4) (3.1.0)\n",
            "Requirement already satisfied: joblib>=0.11 in /usr/local/lib/python3.8/dist-packages (from scikit-learn->fastai==2.4) (1.2.0)\n",
            "Requirement already satisfied: six>=1.5 in /usr/local/lib/python3.8/dist-packages (from python-dateutil>=2.1->matplotlib->fastai==2.4) (1.15.0)\n",
            "Requirement already satisfied: blis<0.8.0,>=0.7.8 in /usr/local/lib/python3.8/dist-packages (from thinc<8.2.0,>=8.1.0->spacy<4->fastai==2.4) (0.7.9)\n",
            "Requirement already satisfied: confection<1.0.0,>=0.0.1 in /usr/local/lib/python3.8/dist-packages (from thinc<8.2.0,>=8.1.0->spacy<4->fastai==2.4) (0.0.4)\n",
            "Requirement already satisfied: click<9.0.0,>=7.1.1 in /usr/local/lib/python3.8/dist-packages (from typer<0.8.0,>=0.3.0->spacy<4->fastai==2.4) (7.1.2)\n",
            "Requirement already satisfied: MarkupSafe>=0.23 in /usr/local/lib/python3.8/dist-packages (from jinja2->spacy<4->fastai==2.4) (2.0.1)\n",
            "Installing collected packages: torch, fastcore, torchvision, fastai\n",
            "  Attempting uninstall: torch\n",
            "    Found existing installation: torch 1.13.1+cu116\n",
            "    Uninstalling torch-1.13.1+cu116:\n",
            "      Successfully uninstalled torch-1.13.1+cu116\n",
            "  Attempting uninstall: fastcore\n",
            "    Found existing installation: fastcore 1.5.28\n",
            "    Uninstalling fastcore-1.5.28:\n",
            "      Successfully uninstalled fastcore-1.5.28\n",
            "  Attempting uninstall: torchvision\n",
            "    Found existing installation: torchvision 0.14.1+cu116\n",
            "    Uninstalling torchvision-0.14.1+cu116:\n",
            "      Successfully uninstalled torchvision-0.14.1+cu116\n",
            "  Attempting uninstall: fastai\n",
            "    Found existing installation: fastai 2.7.10\n",
            "    Uninstalling fastai-2.7.10:\n",
            "      Successfully uninstalled fastai-2.7.10\n",
            "\u001b[31mERROR: pip's dependency resolver does not currently take into account all the packages that are installed. This behaviour is the source of the following dependency conflicts.\n",
            "torchtext 0.14.1 requires torch==1.13.1, but you have torch 1.9.1 which is incompatible.\n",
            "torchaudio 0.13.1+cu116 requires torch==1.13.1, but you have torch 1.9.1 which is incompatible.\u001b[0m\u001b[31m\n",
            "\u001b[0mSuccessfully installed fastai-2.4 fastcore-1.3.29 torch-1.9.1 torchvision-0.10.1\n"
          ]
        }
      ]
    },
    {
      "cell_type": "code",
      "source": [
        "from fastai.data.external import untar_data,URLs\n",
        "import glob\n",
        "\n",
        "coco_path = untar_data(URLs.COCO_SAMPLE)"
      ],
      "metadata": {
        "id": "z9cDF8O-41bC",
        "outputId": "63f5d020-57fe-4149-bfcf-60b85cd6b353",
        "colab": {
          "base_uri": "https://localhost:8080/",
          "height": 17
        }
      },
      "execution_count": 3,
      "outputs": [
        {
          "output_type": "display_data",
          "data": {
            "text/plain": [
              "<IPython.core.display.HTML object>"
            ],
            "text/html": [
              "\n",
              "<style>\n",
              "    /* Turns off some styling */\n",
              "    progress {\n",
              "        /* gets rid of default border in Firefox and Opera. */\n",
              "        border: none;\n",
              "        /* Needs to be in here for Safari polyfill so background images work as expected. */\n",
              "        background-size: auto;\n",
              "    }\n",
              "    progress:not([value]), progress:not([value])::-webkit-progress-bar {\n",
              "        background: repeating-linear-gradient(45deg, #7e7e7e, #7e7e7e 10px, #5c5c5c 10px, #5c5c5c 20px);\n",
              "    }\n",
              "    .progress-bar-interrupted, .progress-bar-interrupted::-webkit-progress-bar {\n",
              "        background: #F44336;\n",
              "    }\n",
              "</style>\n"
            ]
          },
          "metadata": {}
        },
        {
          "output_type": "display_data",
          "data": {
            "text/plain": [
              "<IPython.core.display.HTML object>"
            ],
            "text/html": []
          },
          "metadata": {}
        }
      ]
    },
    {
      "cell_type": "code",
      "source": [
        "print(coco_path)"
      ],
      "metadata": {
        "id": "Hsl3Iavk444Y",
        "outputId": "6da1f592-d892-419d-d4cb-2aeeb43c2079",
        "colab": {
          "base_uri": "https://localhost:8080/"
        }
      },
      "execution_count": 4,
      "outputs": [
        {
          "output_type": "stream",
          "name": "stdout",
          "text": [
            "/root/.fastai/data/coco_sample\n"
          ]
        }
      ]
    },
    {
      "cell_type": "code",
      "source": [
        "paths = glob.glob(str(coco_path) + \"/train_sample/*.jpg\")"
      ],
      "metadata": {
        "id": "pScj08o948VG"
      },
      "execution_count": 5,
      "outputs": []
    },
    {
      "cell_type": "code",
      "source": [
        "import numpy as np\n",
        "\n",
        "np.random.seed(1)\n",
        "chosen_paths = np.random.choice(paths, 5000, replace=False)\n",
        "index = np.random.permutation(5000)\n",
        "\n",
        "train_paths = chosen_paths[index[:4000]] # 앞의 4000을 train 이미지 쓰겠다.\n",
        "val_paths = chosen_paths[index[4000:]]\n",
        "\n",
        "print(len(train_paths))\n",
        "print(len(val_paths))"
      ],
      "metadata": {
        "id": "i0O1fKmI4-2J",
        "outputId": "d54878c6-a6ca-4812-af71-03bca20c9f97",
        "colab": {
          "base_uri": "https://localhost:8080/"
        }
      },
      "execution_count": 6,
      "outputs": [
        {
          "output_type": "stream",
          "name": "stdout",
          "text": [
            "4000\n",
            "1000\n"
          ]
        }
      ]
    },
    {
      "cell_type": "code",
      "source": [
        "import matplotlib\n",
        "import matplotlib.pyplot as plt\n",
        "\n",
        "sample = matplotlib.image.imread(train_paths[2])\n",
        "plt.imshow(sample)\n",
        "plt.axis(\"off\")\n",
        "plt.show()"
      ],
      "metadata": {
        "id": "IeWx1Lda5Cjr",
        "outputId": "e6ab8439-5831-484b-ae7a-1ece661ea534",
        "colab": {
          "base_uri": "https://localhost:8080/",
          "height": 248
        }
      },
      "execution_count": 7,
      "outputs": [
        {
          "output_type": "display_data",
          "data": {
            "text/plain": [
              "<Figure size 432x288 with 1 Axes>"
            ],
            "image/png": "[encoded data removed]"
          },
          "metadata": {
            "needs_background": "light"
          }
        }
      ]
    },
    {
      "cell_type": "code",
      "source": [
        "# 기본적인 데이터 로더\n",
        "import torch\n",
        "from torch.utils.data import Dataset"
      ],
      "metadata": {
        "id": "NyqnRfql5ERV"
      },
      "execution_count": 8,
      "outputs": []
    },
    {
      "cell_type": "code",
      "source": [
        "x = np.random.randint(0, 100, 5)\n",
        "y = np.random.randint(0, 100, 5)\n",
        "print(x)\n",
        "print(y)"
      ],
      "metadata": {
        "id": "-XPCukso5OMM",
        "outputId": "28d3548d-4e7c-4574-ba1c-b1cc60ced374",
        "colab": {
          "base_uri": "https://localhost:8080/"
        }
      },
      "execution_count": 9,
      "outputs": [
        {
          "output_type": "stream",
          "name": "stdout",
          "text": [
            "[13 76 68 69  3]\n",
            "[32 20 70 22 97]\n"
          ]
        }
      ]
    },
    {
      "cell_type": "code",
      "source": [
        "x = torch.Tensor(x)\n",
        "y = torch.Tensor(y)\n",
        "print(x)\n",
        "print(y)"
      ],
      "metadata": {
        "id": "_V5vpMdQ5Osx",
        "outputId": "a04b43fd-a26d-465f-d556-ff5938fa1eec",
        "colab": {
          "base_uri": "https://localhost:8080/"
        }
      },
      "execution_count": 10,
      "outputs": [
        {
          "output_type": "stream",
          "name": "stdout",
          "text": [
            "tensor([13., 76., 68., 69.,  3.])\n",
            "tensor([32., 20., 70., 22., 97.])\n"
          ]
        }
      ]
    },
    {
      "cell_type": "code",
      "source": [
        "from torch.utils.data import Dataset, DataLoader\n",
        "from torchvision import transforms\n",
        "from PIL import ImageDraw\n",
        "from PIL import Image\n",
        "from skimage.color import rgb2lab, lab2rgb\n",
        "import numpy as np\n",
        "import torch\n",
        "import torch.nn as nn\n",
        "import torch.optim as optim"
      ],
      "metadata": {
        "id": "n2veavNI6-26"
      },
      "execution_count": 11,
      "outputs": []
    },
    {
      "cell_type": "code",
      "source": [
        "# tensor 데이터를 순차적으로 받기 위해서 이미지를 tesor로 만듬\n",
        "# Dataset를 상속: Dataset기능을 사용\n",
        "class ColorizationDataset(Dataset):\n",
        "  def __init__(self, paths, mode='train'):\n",
        "      self.mode = mode\n",
        "      self.paths = paths\n",
        "\n",
        "      if mode == \"train\":\n",
        "        # 데이터 전처리, MSCOCO는 이미지 사이즈 다름\n",
        "        # init 안에 transforms.Compose만듬, 함수만드는 느낌으로\n",
        "        # 면접에서 말하는 전처리: resize, Data augmentation(RondomHorizontalFlip)\n",
        "        self.transforms = transforms.Compose([\n",
        "            transforms.Resize((256,256), Image.BICUBIC),\n",
        "            # data augmentation이 많이 하면 점수가 올라가기도 함 하지만 \n",
        "            # 논문에서 작년에 제일 잘한 모델 augmentation사용\n",
        "            # 왜냐면 모델이 무거워짐\n",
        "            transforms.RandomHorizontalFlip()\n",
        "        ])\n",
        "      elif mode == \"val\":\n",
        "        self.transforms = transforms.Resize((256,256), Image.BICUBIC)\n",
        "      else:\n",
        "        raise Exception(\"train or validation only!!!!\")\n",
        "  \n",
        "  # 매 iteration 마다 이미지를 인덱스에 맞춰서 꺼내줌\n",
        "  def __getitem__(self, index):\n",
        "      # .convert(\"RGB\") 안붙이면 gray channer이 들어와서 오류 \n",
        "      # gray채널은 rgb로\n",
        "      img = Image.open(self.paths[index]).convert(\"RGB\")\n",
        "      img = np.array(self.transforms(img))\n",
        "      img = rgb2lab(img).astype(\"float32\") # RGE 채널을 Lab채널로 변환해 주는 것! YCBCR을 많이 사용\n",
        "      # tensor로 변환\n",
        "      img = transforms.ToTensor()(img)\n",
        "      L = img[[0], ...] /50. -1 # -1 ~ 1 사이로 정규화 진행\n",
        "      ab = img[[1,2], ...] /110. # -1 ~ 1 사이로 정규화 진행\n",
        "\n",
        "      # 딕션너리로 리턴\n",
        "      return {'L':L, 'ab' : ab}\n",
        "\n",
        "  def __len__(self):\n",
        "      return len(self.paths)"
      ],
      "metadata": {
        "id": "Va3JC98R6Ihb"
      },
      "execution_count": 19,
      "outputs": []
    },
    {
      "cell_type": "code",
      "source": [
        "ColorizationDataset"
      ],
      "metadata": {
        "id": "8f9DpDzw5Fhb",
        "outputId": "a58a28fa-253a-4763-b2c4-9621abb7f72a",
        "colab": {
          "base_uri": "https://localhost:8080/"
        }
      },
      "execution_count": 13,
      "outputs": [
        {
          "output_type": "execute_result",
          "data": {
            "text/plain": [
              "__main__.ColorizationDataset"
            ]
          },
          "metadata": {},
          "execution_count": 13
        }
      ]
    },
    {
      "cell_type": "code",
      "source": [
        "dataset_train = ColorizationDataset(train_paths, mode ='train')\n",
        "dataset_val = ColorizationDataset(val_paths,mode='val')"
      ],
      "metadata": {
        "id": "JBpmxgDH6YRw",
        "outputId": "cef54869-121a-4e04-ea24-3b33d16f065f",
        "colab": {
          "base_uri": "https://localhost:8080/"
        }
      },
      "execution_count": 14,
      "outputs": [
        {
          "output_type": "stream",
          "name": "stderr",
          "text": [
            "/usr/local/lib/python3.8/dist-packages/torchvision/transforms/transforms.py:280: UserWarning: Argument interpolation should be of type InterpolationMode instead of int. Please, use InterpolationMode enum.\n",
            "  warnings.warn(\n"
          ]
        }
      ]
    },
    {
      "cell_type": "code",
      "source": [
        "# dataLoader에 class를 인자로(get item이 있으니까 tensor 넣는 것과 같음)\n",
        "dataloader_train = DataLoader(dataset_train, batch_size=16, num_workers=2, pin_memory=True)\n",
        "dataloader_val = DataLoader(dataset_val, batch_size=16, num_workers=2, pin_memory=True)"
      ],
      "metadata": {
        "id": "kFhlMEmc6wiL"
      },
      "execution_count": 15,
      "outputs": []
    },
    {
      "cell_type": "code",
      "source": [
        "import torch.nn as nn\n",
        "\n",
        "# 비선형 변환 한번 선형변환 한번해서 현실세계의 복잡한 것을 근사\n",
        "# nn.Module상속\n",
        "# skip connection편하게 하기 위해서 나눠서 함\n",
        "class pix2pix_Generator(nn.Module):\n",
        "  def __init__(self):\n",
        "    super(pix2pix_Generator, self).__init__()\n",
        "\n",
        "    self.input_layer = nn.Sequential(\n",
        "        # 너비와 높이가 2배씩 증가\n",
        "        # input_channels: L channel \n",
        "        nn.Conv2d(1, 64, kernel_size=4, stride=2, padding=1, bias=False),\n",
        "    ) # L channels [1*256*256] -> [64*128*128]\n",
        "\n",
        "    # DC GAN\n",
        "    self.encoder_1 = nn.Sequential(\n",
        "        nn.LeakyReLU(0.2, True),\n",
        "        nn.Conv2d(64, 128, kernel_size=4, stride=2, padding=1, bias=True), # [128*64*64]\n",
        "        nn.BatchNorm2d(128)\n",
        "    )\n",
        "\n",
        "    self.encoder_2 = nn.Sequential(\n",
        "        nn.LeakyReLU(0.2, True),\n",
        "        nn.Conv2d(128, 256, kernel_size=4, stride=2, padding=1, bias=True), # [256*32*32]\n",
        "        nn.BatchNorm2d(256)\n",
        "    )\n",
        "\n",
        "    self.encoder_3 = nn.Sequential(\n",
        "        nn.LeakyReLU(0.2, True),\n",
        "        nn.Conv2d(256, 512, kernel_size=4, stride=2, padding=1, bias=True), # [512*16*16]\n",
        "        nn.BatchNorm2d(512)\n",
        "    )\n",
        "\n",
        "    self.encoder_4 = nn.Sequential(\n",
        "        nn.LeakyReLU(0.2, True),\n",
        "        nn.Conv2d(512, 512, kernel_size=4, stride=2, padding=1, bias=True),# [512*8*8]\n",
        "        nn.BatchNorm2d(512)\n",
        "    )\n",
        "\n",
        "    self.encoder_5 = nn.Sequential(\n",
        "        nn.LeakyReLU(0.2, True),\n",
        "        nn.Conv2d(512, 512, kernel_size=4, stride=2, padding=1, bias=True), # [512*4*4]\n",
        "        nn.BatchNorm2d(512)\n",
        "    )\n",
        "\n",
        "    self.encoder_6 = nn.Sequential(\n",
        "        nn.LeakyReLU(0.2, True),\n",
        "        nn.Conv2d(512, 512, kernel_size=4, stride=2, padding=1, bias=True), # [512*2*2]\n",
        "        nn.BatchNorm2d(512)\n",
        "    )\n",
        "\n",
        "    self.middle = nn.Sequential(\n",
        "        nn.LeakyReLU(0.2, True),\n",
        "        nn.Conv2d(512, 512, kernel_size=4, stride=2, padding=1, bias=False), # [512*1*1]\n",
        "        nn.ReLU(True),\n",
        "        nn.ConvTranspose2d(512, 512, kernel_size=4, stride=2, padding=1, bias=False), # [512*2*2]\n",
        "        nn.BatchNorm2d(512)\n",
        "    )\n",
        "\n",
        "    self.decoder_6 = nn.Sequential(\n",
        "        nn.ReLU(True),\n",
        "        nn.ConvTranspose2d(1024, 512, kernel_size=4, stride=2, padding=1, bias=False), # [(512+512)*2*2] -> [512*4*4]\n",
        "        nn.BatchNorm2d(512),\n",
        "        nn.Dropout(0.5)\n",
        "    )\n",
        "\n",
        "    self.decoder_5 = nn.Sequential(\n",
        "        nn.ReLU(True),\n",
        "        nn.ConvTranspose2d(1024, 512, kernel_size=4, stride=2, padding=1, bias=False), # [(512+512)*4*4] -> [512*8*8]\n",
        "        nn.BatchNorm2d(512),\n",
        "        nn.Dropout(0.5)\n",
        "    )\n",
        "\n",
        "    self.decoder_4 = nn.Sequential(\n",
        "        nn.ReLU(True),\n",
        "        nn.ConvTranspose2d(1024, 512, kernel_size=4, stride=2, padding=1, bias=False), # [(512+512)*8*8] -> [512*16*16]\n",
        "        nn.BatchNorm2d(512),\n",
        "        nn.Dropout(0.5)\n",
        "    )\n",
        "\n",
        "    self.decoder_3 = nn.Sequential(\n",
        "        nn.ReLU(True),\n",
        "        nn.ConvTranspose2d(1024, 256, kernel_size=4, stride=2, padding=1, bias=False), # [(512+512)*16*16] -> [256*32*32] \n",
        "        nn.BatchNorm2d(256),\n",
        "        nn.Dropout(0.5)\n",
        "    )\n",
        "\n",
        "    self.decoder_2 = nn.Sequential(\n",
        "        nn.ReLU(True),\n",
        "        nn.ConvTranspose2d(512, 128, kernel_size=4, stride=2, padding=1, bias=False), # [(256+256)*32*32] -> [128*64*64]\n",
        "        nn.BatchNorm2d(128),\n",
        "        nn.Dropout(0.5)\n",
        "    )\n",
        "\n",
        "    self.decoder_1 = nn.Sequential(\n",
        "        nn.ReLU(True),\n",
        "        nn.ConvTranspose2d(256, 64, kernel_size=4, stride=2, padding=1, bias=False), # [(128+128)*64*64] -> [64*128*128]\n",
        "        nn.BatchNorm2d(64),\n",
        "        nn.Dropout(0.5)\n",
        "    )\n",
        "\n",
        "    # output_channel: a channel, b channel\n",
        "    self.output_layer = nn.Sequential(\n",
        "        nn.ReLU(True),\n",
        "        nn.ConvTranspose2d(64, 2, kernel_size=4, stride=2, padding=1),\n",
        "        nn.Tanh()\n",
        "    )\n",
        "    \n",
        "\n",
        "\n",
        "  def forward(self, x):\n",
        "    input_layer = self.input_layer(x)\n",
        "    \n",
        "    encoder_1 = self.encoder_1(input_layer)\n",
        "    encoder_2 = self.encoder_2(encoder_1)\n",
        "    encoder_3 = self.encoder_3(encoder_2)\n",
        "    encoder_4 = self.encoder_4(encoder_3)\n",
        "    encoder_5 = self.encoder_5(encoder_4)\n",
        "    encoder_6 = self.encoder_6(encoder_5)\n",
        "    \n",
        "    middle = self.middle(encoder_6)\n",
        "\n",
        "    # skip connection: HF 디테일이 사라지는 것을 방지\n",
        "    cat_6 = torch.cat((middle, encoder_6), dim=1)\n",
        "    decoder_6 = self.decoder_6(cat_6)\n",
        "    cat_5 = torch.cat((decoder_6, encoder_5), dim=1)\n",
        "    decoder_5 = self.decoder_5(cat_5)\n",
        "    cat_4 = torch.cat((decoder_5, encoder_4), dim=1)\n",
        "    decoder_4 = self.decoder_4(cat_4)\n",
        "    cat_3 = torch.cat((decoder_4, encoder_3), dim=1)\n",
        "    decoder_3 = self.decoder_3(cat_3)\n",
        "    cat_2 = torch.cat((decoder_3,encoder_2), dim=1)\n",
        "    decoder_2 = self.decoder_2(cat_2)\n",
        "    cat_1 = torch.cat((decoder_2, encoder_1), dim=1)\n",
        "    decoder_1 = self.decoder_1(cat_1)\n",
        "\n",
        "    output = self.output_layer(decoder_1)\n",
        "\n",
        "    return output"
      ],
      "metadata": {
        "id": "JJj67k_U6Yi1"
      },
      "execution_count": 21,
      "outputs": []
    },
    {
      "cell_type": "code",
      "source": [
        "pix2pix_Generator()"
      ],
      "metadata": {
        "id": "zWs8F0DLx2Wk",
        "outputId": "abace46c-7020-4dbe-a1c9-bf1e8f6e1568",
        "colab": {
          "base_uri": "https://localhost:8080/"
        }
      },
      "execution_count": 22,
      "outputs": [
        {
          "output_type": "execute_result",
          "data": {
            "text/plain": [
              "pix2pix_Generator(\n",
              "  (input_layer): Sequential(\n",
              "    (0): Conv2d(1, 64, kernel_size=(4, 4), stride=(2, 2), padding=(1, 1), bias=False)\n",
              "  )\n",
              "  (encoder_1): Sequential(\n",
              "    (0): LeakyReLU(negative_slope=0.2, inplace=True)\n",
              "    (1): Conv2d(64, 128, kernel_size=(4, 4), stride=(2, 2), padding=(1, 1))\n",
              "    (2): BatchNorm2d(128, eps=1e-05, momentum=0.1, affine=True, track_running_stats=True)\n",
              "  )\n",
              "  (encoder_2): Sequential(\n",
              "    (0): LeakyReLU(negative_slope=0.2, inplace=True)\n",
              "    (1): Conv2d(128, 256, kernel_size=(4, 4), stride=(2, 2), padding=(1, 1))\n",
              "    (2): BatchNorm2d(256, eps=1e-05, momentum=0.1, affine=True, track_running_stats=True)\n",
              "  )\n",
              "  (encoder_3): Sequential(\n",
              "    (0): LeakyReLU(negative_slope=0.2, inplace=True)\n",
              "    (1): Conv2d(256, 512, kernel_size=(4, 4), stride=(2, 2), padding=(1, 1))\n",
              "    (2): BatchNorm2d(512, eps=1e-05, momentum=0.1, affine=True, track_running_stats=True)\n",
              "  )\n",
              "  (encoder_4): Sequential(\n",
              "    (0): LeakyReLU(negative_slope=0.2, inplace=True)\n",
              "    (1): Conv2d(512, 512, kernel_size=(4, 4), stride=(2, 2), padding=(1, 1))\n",
              "    (2): BatchNorm2d(512, eps=1e-05, momentum=0.1, affine=True, track_running_stats=True)\n",
              "  )\n",
              "  (encoder_5): Sequential(\n",
              "    (0): LeakyReLU(negative_slope=0.2, inplace=True)\n",
              "    (1): Conv2d(512, 512, kernel_size=(4, 4), stride=(2, 2), padding=(1, 1))\n",
              "    (2): BatchNorm2d(512, eps=1e-05, momentum=0.1, affine=True, track_running_stats=True)\n",
              "  )\n",
              "  (encoder_6): Sequential(\n",
              "    (0): LeakyReLU(negative_slope=0.2, inplace=True)\n",
              "    (1): Conv2d(512, 512, kernel_size=(4, 4), stride=(2, 2), padding=(1, 1))\n",
              "    (2): BatchNorm2d(512, eps=1e-05, momentum=0.1, affine=True, track_running_stats=True)\n",
              "  )\n",
              "  (middle): Sequential(\n",
              "    (0): LeakyReLU(negative_slope=0.2, inplace=True)\n",
              "    (1): Conv2d(512, 512, kernel_size=(4, 4), stride=(2, 2), padding=(1, 1), bias=False)\n",
              "    (2): ReLU(inplace=True)\n",
              "    (3): ConvTranspose2d(512, 512, kernel_size=(4, 4), stride=(2, 2), padding=(1, 1), bias=False)\n",
              "    (4): BatchNorm2d(512, eps=1e-05, momentum=0.1, affine=True, track_running_stats=True)\n",
              "  )\n",
              "  (decoder_6): Sequential(\n",
              "    (0): ReLU(inplace=True)\n",
              "    (1): ConvTranspose2d(1024, 512, kernel_size=(4, 4), stride=(2, 2), padding=(1, 1), bias=False)\n",
              "    (2): BatchNorm2d(512, eps=1e-05, momentum=0.1, affine=True, track_running_stats=True)\n",
              "    (3): Dropout(p=0.5, inplace=False)\n",
              "  )\n",
              "  (decoder_5): Sequential(\n",
              "    (0): ReLU(inplace=True)\n",
              "    (1): ConvTranspose2d(1024, 512, kernel_size=(4, 4), stride=(2, 2), padding=(1, 1), bias=False)\n",
              "    (2): BatchNorm2d(512, eps=1e-05, momentum=0.1, affine=True, track_running_stats=True)\n",
              "    (3): Dropout(p=0.5, inplace=False)\n",
              "  )\n",
              "  (decoder_4): Sequential(\n",
              "    (0): ReLU(inplace=True)\n",
              "    (1): ConvTranspose2d(1024, 512, kernel_size=(4, 4), stride=(2, 2), padding=(1, 1), bias=False)\n",
              "    (2): BatchNorm2d(512, eps=1e-05, momentum=0.1, affine=True, track_running_stats=True)\n",
              "    (3): Dropout(p=0.5, inplace=False)\n",
              "  )\n",
              "  (decoder_3): Sequential(\n",
              "    (0): ReLU(inplace=True)\n",
              "    (1): ConvTranspose2d(1024, 256, kernel_size=(4, 4), stride=(2, 2), padding=(1, 1), bias=False)\n",
              "    (2): BatchNorm2d(256, eps=1e-05, momentum=0.1, affine=True, track_running_stats=True)\n",
              "    (3): Dropout(p=0.5, inplace=False)\n",
              "  )\n",
              "  (decoder_2): Sequential(\n",
              "    (0): ReLU(inplace=True)\n",
              "    (1): ConvTranspose2d(512, 128, kernel_size=(4, 4), stride=(2, 2), padding=(1, 1), bias=False)\n",
              "    (2): BatchNorm2d(128, eps=1e-05, momentum=0.1, affine=True, track_running_stats=True)\n",
              "    (3): Dropout(p=0.5, inplace=False)\n",
              "  )\n",
              "  (decoder_1): Sequential(\n",
              "    (0): ReLU(inplace=True)\n",
              "    (1): ConvTranspose2d(256, 64, kernel_size=(4, 4), stride=(2, 2), padding=(1, 1), bias=False)\n",
              "    (2): BatchNorm2d(64, eps=1e-05, momentum=0.1, affine=True, track_running_stats=True)\n",
              "    (3): Dropout(p=0.5, inplace=False)\n",
              "  )\n",
              "  (output_layer): Sequential(\n",
              "    (0): ReLU(inplace=True)\n",
              "    (1): ConvTranspose2d(64, 2, kernel_size=(4, 4), stride=(2, 2), padding=(1, 1))\n",
              "    (2): Tanh()\n",
              "  )\n",
              ")"
            ]
          },
          "metadata": {},
          "execution_count": 22
        }
      ]
    },
    {
      "cell_type": "code",
      "source": [
        "# 이미지들간의 관계, 분포를 파악, 선형변환 한번, 비선형변환 한번\n",
        "class pix2pix_Discriminator(nn.Module):\n",
        "  def __init__(self):\n",
        "    super().__init__()\n",
        "\n",
        "    self.model = nn.Suquential(\n",
        "        nn.Conv2d(3, 64, kernel_size=4, stride=2, padding=1, bias=False),\n",
        "        nn.LeakyReLU(0.2, True),\n",
        "\n",
        "        nn.Conv2d(64, 128, kernel_size=4, stride=2, padding=1, bias=False),\n",
        "        nn.BatchNorm2d(128),\n",
        "        nn.LeakyReLU(0.2, True),\n",
        "\n",
        "        nn.Conv2d(128, 256, kernel_size=4, stride=2, padding=1, bias=False),\n",
        "        nn.BatchNorm2d(256),\n",
        "        nn.LeakyReLU(0.2, True),\n",
        "\n",
        "        nn.Conv2d(256, 512, kernel_size=4, stride=2, padding=1, bias=False),\n",
        "        nn.BatchNorm2d(512),\n",
        "        nn.LeakyReLU(0.2, True),\n",
        "\n",
        "        nn.Conv2d(512, 1, kernel_size=4, stride=1, padding=1. bias=False)\n",
        "    )\n",
        "\n",
        "    def forward(self, x):\n",
        "      return self.model(x)\n",
        "\n",
        "\n"
      ],
      "metadata": {
        "id": "4SjYqVnEyCFv"
      },
      "execution_count": null,
      "outputs": []
    },
    {
      "cell_type": "code",
      "source": [
        "# class Discriminator(nn.Module):\n",
        "#   def __init__(self):    \n",
        "#     super(Discriminator, self).__init__()\n",
        "\n",
        "#     # C64 : [(2+1)x256x256] -> [64x128x128]\n",
        "#     self.conv1 = nn.Sequential(\n",
        "#         nn.Conv2d(3, 64, kernel_size=4, stride=2, padding=1, bias=False),\n",
        "#         nn.LeakyReLU(0.2, True)\n",
        "#         )\n",
        "#     # C128 : -> [128x64x64]\n",
        "#     self.conv2 = nn.Sequential(\n",
        "#         nn.Conv2d(64, 128, kernel_size=4, stride=2, padding=1, bias=False),\n",
        "#         nn.BatchNorm2d(128),\n",
        "#         nn.LeakyReLU(0.2, True)\n",
        "#         )\n",
        "#     # C256 -> [256x32x32]\n",
        "#     self.conv3 = nn.Sequential(\n",
        "#         nn.Conv2d(128,256,4,2,1),\n",
        "#         nn.BatchNorm2d(256),\n",
        "#         nn.LeakyReLU(0.2, True)\n",
        "#         )\n",
        "#     # C512 -> [512x31x31]\n",
        "#     self.conv4 = nn.Sequential(\n",
        "#         nn.Conv2d(256,512,4,1,1),\n",
        "#         nn.BatchNorm2d(512),\n",
        "#         nn.LeakyReLU(0.2, True)\n",
        "#         )\n",
        "#     # C512 -> [1x30x30]\n",
        "#     self.conv5 = nn.Sequential(\n",
        "#         nn.Conv2d(512,1,4,1,1),\n",
        "#         # nn.BatchNorm2d(256),\n",
        "#         nn.Sigmoid()\n",
        "#         )\n",
        "        \n",
        "#   # ab: 실제/변환된 이미지 a & b chanel, L: 조건(condition) L_channel\n",
        "#   def forward(self,ab,L):\n",
        "#     out = torch.cat((L,ab), dim=1)\n",
        "#     out = self.conv1(out)\n",
        "#     out = self.conv2(out)\n",
        "#     out = self.conv3(out)\n",
        "#     out = self.conv4(out)\n",
        "#     out = self.conv5(out)\n",
        "\n",
        "#     return out        "
      ],
      "metadata": {
        "id": "2JotwcW79n2n"
      },
      "execution_count": 17,
      "outputs": []
    },
    {
      "cell_type": "code",
      "source": [
        "# local minimum을 피하고 globalminimum에 다다르기 위해서\n",
        "def init_weights(m):\n",
        "  # layer가 컨볼류션이라면!\n",
        "  if type(m) == nn.Conv2d:\n",
        "    nn.init.normal_(m.weight.data, mean=0.0, std=0.02)\n",
        "    print(\"Conv2d Initialized!!!!!!!\")\n",
        "  # layer가 전치컨볼루션이라면!\n",
        "  elif type(m) == nn.ConvTranspose2d:\n",
        "    nn.init.normal_(m.weight.data, mean=0.0, std=0.02)\n",
        "    print(\"Transposed Convolution Initialized!!!!!!!\")\n",
        "  elif type(m) == nn.BatchNorm2d:\n",
        "    nn.init.normal_(m.weight.data, mean=1.0, std=0.02)\n",
        "    nn.init.constant_(m.bias.data, 0.)\n",
        "    print(\"BatchNorm2d Initialized!!!\")\n",
        "\n",
        "def model_initialize(model):\n",
        "  model.apply(init_weights)\n",
        "  return model\n",
        "    "
      ],
      "metadata": {
        "id": "gzf8Cgyw9zlO"
      },
      "execution_count": 23,
      "outputs": []
    },
    {
      "cell_type": "code",
      "source": [
        "class GANLoss(nn.Module):\n",
        "  def __init__(self):\n",
        "    super().__init__()\n",
        "    self.register_buffer(\"real_label\", torch.tensor(1.0))\n",
        "    self.register_buffer(\"fake_label\", torch.tensor(0,0))\n",
        "    self.loss == nn.BCWighLongitsLoss()\n",
        "\n",
        "  def get_labels(self, preds, target_is_real):\n",
        "    if target_is_real:\n",
        "      labels = self.real_label\n",
        "    else:\n",
        "      label = self.fake_label\n",
        "    return label.expand_as(preds)\n",
        "\n",
        "  def __call__(self, preds, target_is_real):\n",
        "    labels = self.get_labels(preds, target_is_real)\n",
        "    loss = self.loss(preds, labels)\n",
        "    return loss"
      ],
      "metadata": {
        "id": "NBN5WtGO-DP4"
      },
      "execution_count": 24,
      "outputs": []
    },
    {
      "cell_type": "code",
      "source": [
        "def lab_to_rgb(L, ab):\n",
        "  # 정규화를 반대로 합니다.\n",
        "  L = (L + 1) * 50.\n",
        "  ab = ab * 110\n",
        "  # Lab 컬러 채널을 합쳐야 합니다.\n",
        "  # [배치 사이즈, 채널, 256, 256] -> [배치 사이즈, 256, 256, 채널]\n",
        "  Lab = torch.cat([L, ab], dim = 1).permute(0, 2, 3, 1).cpu().numpy()\n",
        "  # 이미지를 저장할 리스트를 선언\n",
        "  rgb_image = []\n",
        "\n",
        "  for img in Lab:\n",
        "    img_rgb = lab2rgb(img)\n",
        "    rgb_image.append(img_rgb)\n",
        "  return np.stack(rgb_image, axis=0)\n"
      ],
      "metadata": {
        "id": "mBABcYxl_kfS"
      },
      "execution_count": 25,
      "outputs": []
    },
    {
      "cell_type": "code",
      "source": [
        "from torch import optim"
      ],
      "metadata": {
        "id": "QRKdr9Pk1lYZ"
      },
      "execution_count": 27,
      "outputs": []
    },
    {
      "cell_type": "code",
      "source": [],
      "metadata": {
        "id": "IbK5z_5I13tG"
      },
      "execution_count": null,
      "outputs": []
    },
    {
      "cell_type": "code",
      "source": [
        "# generator을 선언하고 초기화 해 준다!\n",
        "# class의 intstance\n",
        "# generator를 선언하고 초기화한다.\n",
        "model_generator = init_weights(pix2pix_Generator())\n",
        "# generator를 gpu로 보내준다: .to(device)\n",
        "model_generator.to(device)\n",
        "\n",
        "# discrminator를 선언하고 초기화한다.\n",
        "model_discriminator = init_weights(pix2pix_Discriminator())\n",
        "# discrminator를 gpu로 보내준다.\n",
        "model_discriminator.to(device)\n",
        "\n",
        "# 로스 함수 선언\n",
        "criterion = GANLoss().to(device)\n",
        "# L1 로스 함수 함수 선언한다.\n",
        "L1 = nn.L1Loss()\n",
        "\n",
        "# optimizer를 선언!!!!\n",
        "# 최적화하는 방법 설정\n",
        "# 무엇의 파라미터를 최적화하는지\n",
        "optimizer_generator = optim.Adam(model_generator.parameters(), lr=2e-4, beats=(0.5, 0.999))\n",
        "optimizer_discriminator = optim.Adam(model_discriminator.parameters(), lr=2e-4, beats=(0.5, 0.999))\n",
        "\n",
        "# 하이퍼파라미터\n",
        "epoch = 1000\n",
        "\n",
        "# epoch 돕시다\n",
        "for e in range(epoch):\n",
        "  # tqdm을 선언합니다.\n",
        "  # data 형태 : dic\n",
        "  for index, data in enumerate(tqdm(dataloader_train)):\n",
        "    # 데이터를 가져와서 gpu로 보내자\n",
        "    # L 데이터를 받아옵시다.\n",
        "    L = data['L'].to(device)\n",
        "    # real color\n",
        "    ab = data['ab'].to(device)\n",
        "    \n",
        "    # 가짜 색 생성해보자\n",
        "    # Generator가 만든 fake color\n",
        "    fake_color = model_generator(L)\n",
        "    \n",
        "    # -------------------------------------------------- 훈련준비 --------------------------------------------------\n",
        "    # Discriminator를 훈련 시작한다.\n",
        "    model_discriminator.train()\n",
        "    '''\n",
        "    하나의 for문에서 G와 D가 동시에 학습 불가, D가 훈련시에는 G가 멈춰야 함\n",
        "    D는 시작함\n",
        "    '''\n",
        "    # D의 멈춰진 훈련을 재개한다. -> Freezing\n",
        "    for parameter in model_discriminator.parameters():\n",
        "      # D의 모든 파라미터에 기울기를 저장하겠다. -> 역전파를 하겠다.\n",
        "      parameter.requires_grad = True\n",
        "    \n",
        "    '''\n",
        "    기울기 초기화, pytorch에서는 iteration이 끝나면 gradient값을 항상 0으로 \n",
        "    이전 iteration에서의 기울기 값이 현재 iteration에 영향을 끼칠 수 있기 때문 \n",
        "    모든 파라미터 마다 어느 값으로 이동하지 정해짐\n",
        "    0.34만큼 움직여 -> 다음 iteration: + 0.33 >> 누적되어 움직임\n",
        "    interation끼리 연결 안되도록\n",
        "    '''\n",
        "    optimizer_discriminator.zero_grad()\n",
        "\n",
        "    # -------------------------------------------------- 훈련준비 --------------------------------------------------\n",
        "    \n",
        "    # 가짜 이미지를 만들고 discriminator에 가짜라고 알려주면서 넣어주자!!\n",
        "    # Discriminator가 3채널 인풋으로 받고 있으니, Lab채널을 torch.cat해줌\n",
        "    fake_image = torch.cat([L, fake_color], dim=1)\n",
        "    '''\n",
        "    Discriminator가 학습하는데, Generator가 혹시라도 영향을 받을까봐 .datach() 역전파를 막는다.\n",
        "    D만 학습, G가 만든 이미지이니까, 역전파 G는 영향받지 않도록\n",
        "    copy는 연전파 까지 복사\n",
        "    '''\n",
        "    fake_preds = model_discriminator(fake_image.detach())\n",
        "    '''\n",
        "    Discriminator가 업데이트되기 위해서 Loss함수를 계산\n",
        "    여기에서 중요한 메인 포인트는 \"Discrminator\"가 학습해야하니 정답지를 알려줘야함\n",
        "    False를 던져준 이유는 이게 가짜 이미지다\"를 알려주는 것\n",
        "    '''\n",
        "    loss_discriminator_fake = criterion(fake_preds, False)\n",
        "\n",
        "    # 진짜 이미지를 만들고 Discriminator에 가짜라고 알려주면서 넣어주자!!(학습)\n",
        "    real_image = torch.cat([L, ab], dim=1)\n",
        "    # 진짜 이미지를 Discriminator에 넣고, Discriminator의 로스를 계산\n",
        "    real_preds = model_discriminator(real_image)\n",
        "    loss_discriminator_real = criterion(real_preds, True)\n",
        "\n",
        "    # Discriminator의 두 가지 로스를 더해서 역전파 시킬 수 있게 만들어 주자!!\n",
        "    loss_discriminator_total = (loss_discriminator_fake + loss_discriminator_real) * 0.5\n",
        "\n",
        "    loss_discriminator_total.backward()\n",
        "    optimizer_discriminator.step()\n",
        "\n",
        "\n",
        "\n",
        "\n",
        "\n",
        "    # # G가 훈련이 시작된 상태!\n",
        "    # # D는 훈련이 멈춘 상태!\n",
        "    # for parameter in model_discriminator.parameters():\n",
        "    #   # D의 모든 파라미터에 기울기를 저장하겠다. -> 역전파를 하겠다.\n",
        "    #   parameter.requires_grad = True\n",
        "\n",
        "\n",
        "\n",
        "\n"
      ],
      "metadata": {
        "id": "ABcW9SFNB9HT",
        "outputId": "24d32d9b-e21f-4f7b-9ec1-c38aa3570e4b",
        "colab": {
          "base_uri": "https://localhost:8080/",
          "height": 248
        }
      },
      "execution_count": 26,
      "outputs": [
        {
          "output_type": "error",
          "ename": "AttributeError",
          "evalue": "ignored",
          "traceback": [
            "\u001b[0;31m---------------------------------------------------------------------------\u001b[0m",
            "\u001b[0;31mAttributeError\u001b[0m                            Traceback (most recent call last)",
            "\u001b[0;32m<ipython-input-26-78612f980cbc>\u001b[0m in \u001b[0;36m<module>\u001b[0;34m\u001b[0m\n\u001b[1;32m      4\u001b[0m \u001b[0mmodel_generator\u001b[0m \u001b[0;34m=\u001b[0m \u001b[0minit_weights\u001b[0m\u001b[0;34m(\u001b[0m\u001b[0mpix2pix_Generator\u001b[0m\u001b[0;34m(\u001b[0m\u001b[0;34m)\u001b[0m\u001b[0;34m)\u001b[0m\u001b[0;34m\u001b[0m\u001b[0;34m\u001b[0m\u001b[0m\n\u001b[1;32m      5\u001b[0m \u001b[0;31m# generator를 gpu로 보내준다: .to(device)\u001b[0m\u001b[0;34m\u001b[0m\u001b[0;34m\u001b[0m\u001b[0;34m\u001b[0m\u001b[0m\n\u001b[0;32m----> 6\u001b[0;31m \u001b[0mmodel_generator\u001b[0m\u001b[0;34m.\u001b[0m\u001b[0mto\u001b[0m\u001b[0;34m(\u001b[0m\u001b[0mdevice\u001b[0m\u001b[0;34m)\u001b[0m\u001b[0;34m\u001b[0m\u001b[0;34m\u001b[0m\u001b[0m\n\u001b[0m\u001b[1;32m      7\u001b[0m \u001b[0;34m\u001b[0m\u001b[0m\n\u001b[1;32m      8\u001b[0m \u001b[0;31m# discrminator를 선언하고 초기화한다.\u001b[0m\u001b[0;34m\u001b[0m\u001b[0;34m\u001b[0m\u001b[0;34m\u001b[0m\u001b[0m\n",
            "\u001b[0;31mAttributeError\u001b[0m: 'NoneType' object has no attribute 'to'"
          ]
        }
      ]
    },
    {
      "cell_type": "code",
      "source": [
        "?"
      ],
      "metadata": {
        "id": "ys1zeGzAw6Rn"
      },
      "execution_count": null,
      "outputs": []
    }
  ]
}